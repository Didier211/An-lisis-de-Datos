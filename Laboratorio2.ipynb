{
  "nbformat": 4,
  "nbformat_minor": 0,
  "metadata": {
    "colab": {
      "provenance": []
    },
    "kernelspec": {
      "name": "python3",
      "display_name": "Python 3"
    },
    "language_info": {
      "name": "python"
    }
  },
  "cells": [
    {
      "cell_type": "code",
      "execution_count": 8,
      "metadata": {
        "colab": {
          "base_uri": "https://localhost:8080/"
        },
        "id": "FNait7zStUnT",
        "outputId": "44171340-e9d9-4fad-f137-3bda93961756"
      },
      "outputs": [
        {
          "output_type": "stream",
          "name": "stdout",
          "text": [
            "           TOWN      LON      LAT  MEDV     CRIM    ZN  INDUS  CHAS    NOX  \\\n",
            "0        Nahant -70.9550  42.2550  24.0  0.00632  18.0   2.31     0  0.538   \n",
            "1    Swampscott -70.9500  42.2875  21.6  0.02731   0.0   7.07     0  0.469   \n",
            "2    Swampscott -70.9360  42.2830  34.7  0.02729   0.0   7.07     0  0.469   \n",
            "3    Marblehead -70.9280  42.2930  33.4  0.03237   0.0   2.18     0  0.458   \n",
            "4    Marblehead -70.9220  42.2980  36.2  0.06905   0.0   2.18     0  0.458   \n",
            "..          ...      ...      ...   ...      ...   ...    ...   ...    ...   \n",
            "501    Winthrop -70.9860  42.2312  22.4  0.06263   0.0  11.93     0  0.573   \n",
            "502    Winthrop -70.9910  42.2275  20.6  0.04527   0.0  11.93     0  0.573   \n",
            "503    Winthrop -70.9948  42.2260  23.9  0.06076   0.0  11.93     0  0.573   \n",
            "504    Winthrop -70.9875  42.2240  22.0  0.10959   0.0  11.93     0  0.573   \n",
            "505    Winthrop -70.9825  42.2210  19.0  0.04741   0.0  11.93     0  0.573   \n",
            "\n",
            "        RM   AGE     DIS  RAD  TAX  PTRATIO       B  LSTAT  \n",
            "0    6.575  65.2  4.0900    1  296     15.3  396.90   4.98  \n",
            "1    6.421  78.9  4.9671    2  242     17.8  396.90   9.14  \n",
            "2    7.185  61.1  4.9671    2  242     17.8  392.83   4.03  \n",
            "3    6.998  45.8  6.0622    3  222     18.7  394.63   2.94  \n",
            "4    7.147  54.2  6.0622    3  222     18.7  396.90   5.33  \n",
            "..     ...   ...     ...  ...  ...      ...     ...    ...  \n",
            "501  6.593  69.1  2.4786    1  273     21.0  391.99   9.67  \n",
            "502  6.120  76.7  2.2875    1  273     21.0  396.90   9.08  \n",
            "503  6.976  91.0  2.1675    1  273     21.0  396.90   5.64  \n",
            "504  6.794  89.3  2.3889    1  273     21.0  393.45   6.48  \n",
            "505  6.030  80.8  2.5050    1  273     21.0  396.90   7.88  \n",
            "\n",
            "[506 rows x 17 columns]\n",
            "0      65.2\n",
            "1      78.9\n",
            "2      61.1\n",
            "3      45.8\n",
            "4      54.2\n",
            "       ... \n",
            "501    69.1\n",
            "502    76.7\n",
            "503    91.0\n",
            "504    89.3\n",
            "505    80.8\n",
            "Name: AGE, Length: 506, dtype: float64\n",
            "       TOWN     LON      LAT  MEDV     CRIM    ZN  INDUS  CHAS    NOX     RM  \\\n",
            "0    Nahant -70.955  42.2550  24.0  0.00632  18.0   2.31     0  0.538  6.575   \n",
            "119  Malden -71.019  42.2605  19.3  0.14476   0.0  10.01     0  0.547  5.731   \n",
            "\n",
            "      AGE     DIS  RAD  TAX  PTRATIO      B  LSTAT  \n",
            "0    65.2  4.0900    1  296     15.3  396.9   4.98  \n",
            "119  65.2  2.7592    6  432     17.8  391.5  13.61  \n"
          ]
        }
      ],
      "source": [
        "import statistics\n",
        "import pandas as pd\n",
        "df=pd.read_csv('/content/casasboston.csv')\n",
        "data=pd.DataFrame(df)\n",
        "print(data)\n",
        "print(data.AGE)\n",
        "dataresultado= data.loc[(data['AGE']==65.2)]\n",
        "print(dataresultado)\n"
      ]
    },
    {
      "cell_type": "code",
      "source": [
        "dataresultado= data.loc[(data['TOWN']==\"Winthrop\")] #Ejemplos de la profe\n",
        "print(dataresultado)\n",
        "#Integrantes Didier Miranda, Gabriel Jimenez, Anthony Li, Gabriel Chavarria\n",
        "#Selecionar un TOWM\n",
        "#TOWN: CRIM aquellos casos que son superiores a 0.50\n",
        "#Sacar el promedio de la edad usar la funcion  de promedio de matematica\n",
        "#Imprimir un indice y una edad, retorna los puntos correspondientes\n",
        "#Ordenamiento por CRIM //sort para el ordenamiento\n"
      ],
      "metadata": {
        "colab": {
          "base_uri": "https://localhost:8080/"
        },
        "id": "noCTBb5JufZ5",
        "outputId": "eee16e1d-71ac-4fb8-e409-d4994786d2ce"
      },
      "execution_count": 9,
      "outputs": [
        {
          "output_type": "stream",
          "name": "stdout",
          "text": [
            "         TOWN      LON      LAT  MEDV     CRIM   ZN  INDUS  CHAS    NOX  \\\n",
            "501  Winthrop -70.9860  42.2312  22.4  0.06263  0.0  11.93     0  0.573   \n",
            "502  Winthrop -70.9910  42.2275  20.6  0.04527  0.0  11.93     0  0.573   \n",
            "503  Winthrop -70.9948  42.2260  23.9  0.06076  0.0  11.93     0  0.573   \n",
            "504  Winthrop -70.9875  42.2240  22.0  0.10959  0.0  11.93     0  0.573   \n",
            "505  Winthrop -70.9825  42.2210  19.0  0.04741  0.0  11.93     0  0.573   \n",
            "\n",
            "        RM   AGE     DIS  RAD  TAX  PTRATIO       B  LSTAT  \n",
            "501  6.593  69.1  2.4786    1  273     21.0  391.99   9.67  \n",
            "502  6.120  76.7  2.2875    1  273     21.0  396.90   9.08  \n",
            "503  6.976  91.0  2.1675    1  273     21.0  396.90   5.64  \n",
            "504  6.794  89.3  2.3889    1  273     21.0  393.45   6.48  \n",
            "505  6.030  80.8  2.5050    1  273     21.0  396.90   7.88  \n"
          ]
        }
      ]
    },
    {
      "cell_type": "code",
      "source": [
        "#1El TOWN que seleccionamos es Swampscott\n",
        "#2TOWN: CRIM aquellos casos que son superiores a 0.50\n",
        "dataresultado= data.loc[(data['TOWN']==\"Swampscott\") & (data['CRIM']>0.50)]\n",
        "print(dataresultado)"
      ],
      "metadata": {
        "colab": {
          "base_uri": "https://localhost:8080/"
        },
        "id": "xN3zQnri48nn",
        "outputId": "94e3b4c9-bcd6-4451-9c4b-c948f6c54402"
      },
      "execution_count": 18,
      "outputs": [
        {
          "output_type": "stream",
          "name": "stdout",
          "text": [
            "Empty DataFrame\n",
            "Columns: [TOWN, LON, LAT, MEDV, CRIM, ZN, INDUS, CHAS, NOX, RM, AGE, DIS, RAD, TAX, PTRATIO, B, LSTAT]\n",
            "Index: []\n"
          ]
        }
      ]
    },
    {
      "cell_type": "code",
      "execution_count": 21,
      "metadata": {
        "colab": {
          "base_uri": "https://localhost:8080/"
        },
        "outputId": "2d6d70e1-e570-476f-9b9c-2f990e6f6c89",
        "id": "BXgq_LJH6nHL"
      },
      "outputs": [
        {
          "output_type": "stream",
          "name": "stdout",
          "text": [
            "70.0\n"
          ]
        }
      ],
      "source": [
        "#3Promedio de Edad\n",
        "dataresultado= data[(data['TOWN']==\"Swampscott\")]['AGE'].mean()\n",
        "print(dataresultado)"
      ]
    },
    {
      "cell_type": "code",
      "source": [
        "#4 Imprimir un indice y una edad, retorna los puntos correspondientes\n",
        "dataresultado= data.loc[(data['LAT']==42.28) & (data['AGE']>60)]\n",
        "print(dataresultado)\n"
      ],
      "metadata": {
        "colab": {
          "base_uri": "https://localhost:8080/"
        },
        "id": "-2unDhgOABKr",
        "outputId": "020f40ab-7a39-44c0-d23d-f04db7eff913"
      },
      "execution_count": 29,
      "outputs": [
        {
          "output_type": "stream",
          "name": "stdout",
          "text": [
            "    TOWN     LON    LAT  MEDV     CRIM   ZN  INDUS  CHAS    NOX     RM   AGE  \\\n",
            "28  Lynn -70.957  42.28  18.4  0.77299  0.0   8.14     0  0.538  6.495  94.4   \n",
            "\n",
            "       DIS  RAD  TAX  PTRATIO       B  LSTAT  \n",
            "28  4.4547    4  307     21.0  387.94   12.8  \n"
          ]
        }
      ]
    },
    {
      "cell_type": "code",
      "source": [
        "#5 #Ordenamiento por CRIM //sort para el ordenamiento\n",
        "dataresultado= sorted(data[(data['TOWN']==\"Swampscott\")]['CRIM'])\n",
        "print(dataresultado)"
      ],
      "metadata": {
        "colab": {
          "base_uri": "https://localhost:8080/"
        },
        "id": "RTwqnQTJBdjR",
        "outputId": "c196176d-62f4-4431-c351-30d30cffa0f4"
      },
      "execution_count": 26,
      "outputs": [
        {
          "output_type": "stream",
          "name": "stdout",
          "text": [
            "[0.02729, 0.02731]\n"
          ]
        }
      ]
    },
    {
      "cell_type": "code",
      "source": [],
      "metadata": {
        "id": "C7SMex8OBvYg"
      },
      "execution_count": null,
      "outputs": []
    }
  ]
}